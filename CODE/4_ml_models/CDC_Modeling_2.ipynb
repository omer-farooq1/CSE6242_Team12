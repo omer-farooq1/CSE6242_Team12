{
  "nbformat": 4,
  "nbformat_minor": 0,
  "metadata": {
    "colab": {
      "name": "CDC Modeling 2.ipynb",
      "provenance": []
    },
    "kernelspec": {
      "name": "python3",
      "display_name": "Python 3"
    },
    "language_info": {
      "name": "python"
    }
  },
  "cells": [
    {
      "cell_type": "markdown",
      "source": [
        "### Multi-Output Model Using Sklearn Wrapper"
      ],
      "metadata": {
        "id": "x6Au0ZrMPeHE"
      }
    },
    {
      "cell_type": "code",
      "execution_count": null,
      "metadata": {
        "id": "3DI4bwYs893O"
      },
      "outputs": [],
      "source": [
        "from sklearn.ensemble import RandomForestClassifier, GradientBoostingClassifier\n",
        "from sklearn.linear_model import LogisticRegression\n",
        "from sklearn.model_selection import train_test_split\n",
        "from sklearn.metrics import accuracy_score, f1_score\n",
        "from sklearn.multioutput import MultiOutputClassifier\n",
        "import pandas as pd\n",
        "import numpy as np\n",
        "import matplotlib.pyplot as plt\n",
        "from glob import glob\n",
        "from skmultilearn.model_selection.iterative_stratification import iterative_train_test_split"
      ]
    },
    {
      "cell_type": "code",
      "source": [
        "csv_files = glob('/content/drive/MyDrive/CSE6242 Clean Partitions/*.csv')\n",
        "csv_files[:5]"
      ],
      "metadata": {
        "colab": {
          "base_uri": "https://localhost:8080/"
        },
        "id": "LKd9kP6t9Dqh",
        "outputId": "4aa93439-e321-41ed-d36e-d82e6ab8ace0"
      },
      "execution_count": null,
      "outputs": [
        {
          "output_type": "execute_result",
          "data": {
            "text/plain": [
              "['/content/drive/MyDrive/CSE6242 Clean Partitions/df_partition_0.csv',\n",
              " '/content/drive/MyDrive/CSE6242 Clean Partitions/df_partition_1.csv',\n",
              " '/content/drive/MyDrive/CSE6242 Clean Partitions/df_partition_2.csv',\n",
              " '/content/drive/MyDrive/CSE6242 Clean Partitions/df_partition_3.csv',\n",
              " '/content/drive/MyDrive/CSE6242 Clean Partitions/df_partition_4.csv']"
            ]
          },
          "metadata": {},
          "execution_count": 3
        }
      ]
    },
    {
      "cell_type": "code",
      "source": [
        "df = pd.concat([pd.read_csv(file).dropna() for file in csv_files], axis=0)"
      ],
      "metadata": {
        "id": "Qd-O2kr89Ffb"
      },
      "execution_count": null,
      "outputs": []
    },
    {
      "cell_type": "code",
      "source": [
        "targets = ['hosp_yn', 'icu_yn', 'death_yn']\n",
        "for target in targets:\n",
        "  print(target)\n",
        "  print(df[target].value_counts(normalize=True))"
      ],
      "metadata": {
        "colab": {
          "base_uri": "https://localhost:8080/"
        },
        "id": "0TOsw6K7A38O",
        "outputId": "20060498-aac0-409e-ab04-853e63de94b3"
      },
      "execution_count": null,
      "outputs": [
        {
          "output_type": "stream",
          "name": "stdout",
          "text": [
            "hosp_yn\n",
            "0.0    0.854746\n",
            "1.0    0.145254\n",
            "Name: hosp_yn, dtype: float64\n",
            "icu_yn\n",
            "0.0    0.951343\n",
            "1.0    0.048657\n",
            "Name: icu_yn, dtype: float64\n",
            "death_yn\n",
            "0.0    0.954915\n",
            "1.0    0.045085\n",
            "Name: death_yn, dtype: float64\n"
          ]
        }
      ]
    },
    {
      "cell_type": "code",
      "source": [
        "X_train, X_test, y_train, y_test = train_test_split(df.drop(targets, axis=1), df[targets],\n",
        "                                                              test_size=0.3)\n"
      ],
      "metadata": {
        "id": "TmS_KvqbBeKo"
      },
      "execution_count": null,
      "outputs": []
    },
    {
      "cell_type": "code",
      "source": [
        "mogb = MultiOutputClassifier(GradientBoostingClassifier(), n_jobs=-1)\n",
        "mogb.fit(X_train, y_train)"
      ],
      "metadata": {
        "colab": {
          "base_uri": "https://localhost:8080/"
        },
        "id": "3V_3l_xGFZFl",
        "outputId": "2354d5a9-d9b9-4af2-b815-131c1c6c583c"
      },
      "execution_count": null,
      "outputs": [
        {
          "output_type": "execute_result",
          "data": {
            "text/plain": [
              "MultiOutputClassifier(estimator=GradientBoostingClassifier(), n_jobs=-1)"
            ]
          },
          "metadata": {},
          "execution_count": 28
        }
      ]
    },
    {
      "cell_type": "code",
      "source": [
        "train_preds = mogb.predict(X_train)\n",
        "test_preds = mogb.predict(X_test)\n",
        "\n",
        "for i, target in enumerate(targets):\n",
        "  print(f'{target.upper()} classifications')\n",
        "  print(f'{target.upper()} Train Accuracy: {accuracy_score(y_train[target], train_preds[:, i])}, F1 score: {f1_score(y_train[target], train_preds[:, i])}')\n",
        "  print(f'{target.upper()} Test Accuracy: {accuracy_score(y_test[target], test_preds[:, i])}, F1 score: {f1_score(y_test[target], test_preds[:, i])} \\n')"
      ],
      "metadata": {
        "colab": {
          "base_uri": "https://localhost:8080/"
        },
        "id": "ZUAVDaCRT0ws",
        "outputId": "6c35fb2a-1d5f-43d8-d97b-6b4996030c24"
      },
      "execution_count": null,
      "outputs": [
        {
          "output_type": "stream",
          "name": "stdout",
          "text": [
            "HOSP_YN classifications\n",
            "HOSP_YN Train Accuracy: 0.9317938315909918, F1 score: 0.6977335006530591\n",
            "HOSP_YN Test Accuracy: 0.9321884430444949, F1 score: 0.6999367534218786 \n",
            "\n",
            "ICU_YN classifications\n",
            "ICU_YN Train Accuracy: 0.9669388533485896, F1 score: 0.5305499483038748\n",
            "ICU_YN Test Accuracy: 0.9667751687535564, F1 score: 0.5273173726212401 \n",
            "\n",
            "DEATH_YN classifications\n",
            "DEATH_YN Train Accuracy: 0.9804222071970551, F1 score: 0.7317953671010339\n",
            "DEATH_YN Test Accuracy: 0.9807339127902116, F1 score: 0.733154041535933 \n",
            "\n"
          ]
        }
      ]
    },
    {
      "cell_type": "code",
      "source": [
        ""
      ],
      "metadata": {
        "id": "gRlZc0sQSKUe"
      },
      "execution_count": null,
      "outputs": []
    }
  ]
}