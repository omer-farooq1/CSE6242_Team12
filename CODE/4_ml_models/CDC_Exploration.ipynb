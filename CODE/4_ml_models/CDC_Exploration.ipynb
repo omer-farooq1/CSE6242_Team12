{
  "cells": [
    {
      "cell_type": "markdown",
      "metadata": {
        "id": "ybO1KFNGXNIN"
      },
      "source": [
        "# Cases Data Processing"
      ]
    },
    {
      "cell_type": "code",
      "execution_count": null,
      "metadata": {
        "id": "lZTF9OdhBdD3"
      },
      "outputs": [],
      "source": [
        "import pandas as pd\n",
        "import numpy as np\n",
        "from glob import glob\n",
        "from sklearn.preprocessing import OneHotEncoder"
      ]
    },
    {
      "cell_type": "code",
      "execution_count": null,
      "metadata": {
        "colab": {
          "base_uri": "https://localhost:8080/"
        },
        "id": "_lfLfasknNQ_",
        "outputId": "767b1d7b-1273-4fdf-ee95-dabdf011417b"
      },
      "outputs": [
        {
          "output_type": "stream",
          "name": "stdout",
          "text": [
            "Mounted at /content/drive\n"
          ]
        }
      ],
      "source": [
        "from google.colab import drive\n",
        "drive.mount('/content/drive')"
      ]
    },
    {
      "cell_type": "code",
      "execution_count": null,
      "metadata": {
        "id": "7PEd_ZiaaBQK"
      },
      "outputs": [],
      "source": [
        "feats = ['case_month',\t'res_state',\t'state_fips_code',\t'res_county',\t'county_fips_code',\t\n",
        "         'age_group',\t'sex',\t'race',\t'ethnicity',\t'case_positive_specimen_interval',\t\n",
        "         'case_onset_interval',\t'process',\t'exposure_yn',\t'current_status',\t'symptom_status',\t\n",
        "         'underlying_conditions_yn']\n",
        "selected_feats = []\n",
        "for feat in feats:\n",
        "  feature = pd.read_csv(\"/content/drive/MyDrive/COVID-19_Case_Surveillance_Public_Use_Data_with_Geography.csv\", usecols = [feat])\n",
        "  feature = feature.replace(to_replace = ['Missing', 'Unknown'], value=np.nan)\n",
        "  if feature.isnull().mean().values[0]>0.4:\n",
        "    continue\n",
        "  selected_feats.append(feat)"
      ]
    },
    {
      "cell_type": "code",
      "execution_count": null,
      "metadata": {
        "id": "x9JS_rDR0lho"
      },
      "outputs": [],
      "source": [
        "selected_feats = ['case_month',\n",
        " 'res_state',\n",
        " 'state_fips_code',\n",
        " 'res_county',\n",
        " 'county_fips_code',\n",
        " 'age_group',\n",
        " 'sex',\n",
        " 'race',\n",
        " 'current_status']"
      ]
    },
    {
      "cell_type": "code",
      "execution_count": null,
      "metadata": {
        "colab": {
          "base_uri": "https://localhost:8080/"
        },
        "id": "3F7Uea_gEZWW",
        "outputId": "16b3ffd3-b846-472a-8a89-fe63a5a97e99"
      },
      "outputs": [
        {
          "output_type": "stream",
          "name": "stderr",
          "text": [
            "/usr/local/lib/python3.7/dist-packages/IPython/core/interactiveshell.py:2822: DtypeWarning: Columns (3) have mixed types.Specify dtype option on import or set low_memory=False.\n",
            "  if self.run_code(code, result):\n"
          ]
        }
      ],
      "source": [
        "## Round 1\n",
        "\n",
        "for j, dfgeo in enumerate(pd.read_csv(\"/content/drive/MyDrive/COVID-19_Case_Surveillance_Public_Use_Data_with_Geography.csv\",\n",
        "                    chunksize=1000000)):\n",
        "  # replacing missing and unknown with null\n",
        "  dfgeo_cleaned = dfgeo.replace(to_replace = ['Missing', 'Unknown', 'nul'], value=np.nan)\n",
        "\n",
        "  # dropping rows with all targets being null\n",
        "  mask = []\n",
        "  target_vars = ['hosp_yn', 'icu_yn', 'death_yn']\n",
        "  na_inds = dfgeo_cleaned.loc[dfgeo_cleaned[target_vars].isnull().sum(axis=1)==3,:].index\n",
        "  dfgeo_cleaned.drop(na_inds, axis=0, inplace=True)\n",
        "\n",
        "  # dropping columns with more than 40% missing\n",
        "  dfgeo_cleaned.drop([col for col in dfgeo_cleaned.columns if col not in selected_feats and \\\n",
        "                      col not in target_vars], axis=1, inplace=True)\n",
        "\n",
        "  # dropping rows with missing values in them\n",
        "  missing_feats = [col for col in selected_feats if dfgeo_cleaned[col].isnull().sum()>0]\n",
        "  df_tmp = dfgeo_cleaned.loc[:, missing_feats].dropna()\n",
        "\n",
        "  dfgeo_cleaned = dfgeo_cleaned.loc[df_tmp.index, :]\n",
        "\n",
        "  # saving to drive\n",
        "  dfgeo_cleaned.to_csv(f'/content/drive/MyDrive/CSE6242 Clean Partitions/GEO_DATA/df_geo_partition_{j}.csv',\n",
        "                      index=False)"
      ]
    },
    {
      "cell_type": "code",
      "source": [
        "## Round 2\n",
        "\n",
        "round1_files = glob('/content/drive/MyDrive/CSE6242 Clean Partitions/GEO_DATA/*.csv')\n",
        "\n",
        "target_vars = ['hosp_yn', 'icu_yn', 'death_yn']\n",
        "for j, file in enumerate(round1_files):\n",
        "  dfgeo_r1 = pd.read_csv(file)\n",
        "\n",
        "  # replacing case_month with numeric year and month columns\n",
        "  if 'year' not in dfgeo_r1.columns:\n",
        "    dfgeo_r1.insert(loc=0, column='year', value = dfgeo_r1['case_month'].apply(lambda x: x.split('-')[0]).astype('int') )\n",
        "    dfgeo_r1.insert(loc=1, column='month', value= dfgeo_r1['case_month'].apply(lambda x: x.split('-')[1]).astype('int') )\n",
        "    dfgeo_r1.drop('case_month', axis=1, inplace=True)\n",
        "\n",
        "  # dropping state fips code (we'll use county fips code to join with VAX data)\n",
        "  if 'state_fips_code' in dfgeo_r1.columns:\n",
        "    dfgeo_r1.drop('state_fips_code', axis=1, inplace=True)\n",
        "\n",
        "  # target variables binarization\n",
        "  for var in target_vars:\n",
        "    dfgeo_r1[var] = dfgeo_r1[var].replace({'Yes':1, 'No': 0})\n",
        "\n",
        "  # over-writing cleaned frames\n",
        "  dfgeo_r1.to_csv(file, index=False)"
      ],
      "metadata": {
        "id": "Ef-TVEkcpzOd"
      },
      "execution_count": null,
      "outputs": []
    },
    {
      "cell_type": "code",
      "source": [
        "## Round 2 Contd. Merging vax data on fips code\n",
        "\n",
        "# get all unique fips codes from df_geo\n",
        "\n",
        "fips_codes = pd.read_csv(\"/content/drive/MyDrive/COVID-19_Case_Surveillance_Public_Use_Data_with_Geography.csv\", usecols=['county_fips_code'])\n",
        "unique_fips = pd.Series(fips_codes.squeeze().unique(), name='county_fips_code')\n",
        "vax_data = pd.read_csv(\"/content/drive/MyDrive/COVID-19_Vaccinations_in_the_United_States_County.csv\", usecols = ['Date', 'FIPS',\n",
        "                                                                                                                  'Completeness_pct',\n",
        "                                                                                                                  'SVI_CTGY', \n",
        "                                                                                                                  'Metro_status', \n",
        "                                                                                                                  'Census2019'])\n"
      ],
      "metadata": {
        "id": "nSny7uuYUQiT"
      },
      "execution_count": null,
      "outputs": []
    },
    {
      "cell_type": "code",
      "source": [
        "vax_data = vax_data.loc[vax_data['FIPS']!='UNK', :]\n",
        "vax_data['FIPS'] = vax_data['FIPS'].astype('int')\n",
        "vax_data['Date'] = pd.to_datetime(vax_data['Date'], format='%m/%d/%Y')\n",
        "vax_data['Metro_status'] = vax_data['Metro_status'].replace({'Non-metro':0, 'Metro': 1})\n",
        "vax_data['SVI_CTGY'] = vax_data['SVI_CTGY'].replace({'D': 1, 'C': 2, 'B': 3, 'A': 4})\n",
        "\n",
        "df3 = pd.merge(left=unique_fips, right=vax_data, how='inner', left_on='county_fips_code', right_on='FIPS')\n",
        "shared_fips = [c for c in unique_fips if c in df3.FIPS]"
      ],
      "metadata": {
        "id": "ut4Pmb08dmvk"
      },
      "execution_count": null,
      "outputs": []
    },
    {
      "cell_type": "code",
      "source": [
        "df3.head()"
      ],
      "metadata": {
        "colab": {
          "base_uri": "https://localhost:8080/",
          "height": 206
        },
        "id": "XdUWhDmNxQS_",
        "outputId": "21196923-ec1f-4df1-b82f-0d8c7b0abe9d"
      },
      "execution_count": null,
      "outputs": [
        {
          "output_type": "execute_result",
          "data": {
            "text/plain": [
              "   county_fips_code       Date     FIPS  Completeness_pct  SVI_CTGY  \\\n",
              "0           42091.0 2022-03-09  42091.0              94.7       4.0   \n",
              "1           42091.0 2022-03-08  42091.0              94.7       4.0   \n",
              "2           42091.0 2022-03-07  42091.0              94.7       4.0   \n",
              "3           42091.0 2022-03-06  42091.0              94.7       4.0   \n",
              "4           42091.0 2022-03-05  42091.0              94.7       4.0   \n",
              "\n",
              "   Metro_status  Census2019  \n",
              "0           1.0    830915.0  \n",
              "1           1.0    830915.0  \n",
              "2           1.0    830915.0  \n",
              "3           1.0    830915.0  \n",
              "4           1.0    830915.0  "
            ],
            "text/html": [
              "\n",
              "  <div id=\"df-1418e509-3329-476d-afd7-4ef249102698\">\n",
              "    <div class=\"colab-df-container\">\n",
              "      <div>\n",
              "<style scoped>\n",
              "    .dataframe tbody tr th:only-of-type {\n",
              "        vertical-align: middle;\n",
              "    }\n",
              "\n",
              "    .dataframe tbody tr th {\n",
              "        vertical-align: top;\n",
              "    }\n",
              "\n",
              "    .dataframe thead th {\n",
              "        text-align: right;\n",
              "    }\n",
              "</style>\n",
              "<table border=\"1\" class=\"dataframe\">\n",
              "  <thead>\n",
              "    <tr style=\"text-align: right;\">\n",
              "      <th></th>\n",
              "      <th>county_fips_code</th>\n",
              "      <th>Date</th>\n",
              "      <th>FIPS</th>\n",
              "      <th>Completeness_pct</th>\n",
              "      <th>SVI_CTGY</th>\n",
              "      <th>Metro_status</th>\n",
              "      <th>Census2019</th>\n",
              "    </tr>\n",
              "  </thead>\n",
              "  <tbody>\n",
              "    <tr>\n",
              "      <th>0</th>\n",
              "      <td>42091.0</td>\n",
              "      <td>2022-03-09</td>\n",
              "      <td>42091.0</td>\n",
              "      <td>94.7</td>\n",
              "      <td>4.0</td>\n",
              "      <td>1.0</td>\n",
              "      <td>830915.0</td>\n",
              "    </tr>\n",
              "    <tr>\n",
              "      <th>1</th>\n",
              "      <td>42091.0</td>\n",
              "      <td>2022-03-08</td>\n",
              "      <td>42091.0</td>\n",
              "      <td>94.7</td>\n",
              "      <td>4.0</td>\n",
              "      <td>1.0</td>\n",
              "      <td>830915.0</td>\n",
              "    </tr>\n",
              "    <tr>\n",
              "      <th>2</th>\n",
              "      <td>42091.0</td>\n",
              "      <td>2022-03-07</td>\n",
              "      <td>42091.0</td>\n",
              "      <td>94.7</td>\n",
              "      <td>4.0</td>\n",
              "      <td>1.0</td>\n",
              "      <td>830915.0</td>\n",
              "    </tr>\n",
              "    <tr>\n",
              "      <th>3</th>\n",
              "      <td>42091.0</td>\n",
              "      <td>2022-03-06</td>\n",
              "      <td>42091.0</td>\n",
              "      <td>94.7</td>\n",
              "      <td>4.0</td>\n",
              "      <td>1.0</td>\n",
              "      <td>830915.0</td>\n",
              "    </tr>\n",
              "    <tr>\n",
              "      <th>4</th>\n",
              "      <td>42091.0</td>\n",
              "      <td>2022-03-05</td>\n",
              "      <td>42091.0</td>\n",
              "      <td>94.7</td>\n",
              "      <td>4.0</td>\n",
              "      <td>1.0</td>\n",
              "      <td>830915.0</td>\n",
              "    </tr>\n",
              "  </tbody>\n",
              "</table>\n",
              "</div>\n",
              "      <button class=\"colab-df-convert\" onclick=\"convertToInteractive('df-1418e509-3329-476d-afd7-4ef249102698')\"\n",
              "              title=\"Convert this dataframe to an interactive table.\"\n",
              "              style=\"display:none;\">\n",
              "        \n",
              "  <svg xmlns=\"http://www.w3.org/2000/svg\" height=\"24px\"viewBox=\"0 0 24 24\"\n",
              "       width=\"24px\">\n",
              "    <path d=\"M0 0h24v24H0V0z\" fill=\"none\"/>\n",
              "    <path d=\"M18.56 5.44l.94 2.06.94-2.06 2.06-.94-2.06-.94-.94-2.06-.94 2.06-2.06.94zm-11 1L8.5 8.5l.94-2.06 2.06-.94-2.06-.94L8.5 2.5l-.94 2.06-2.06.94zm10 10l.94 2.06.94-2.06 2.06-.94-2.06-.94-.94-2.06-.94 2.06-2.06.94z\"/><path d=\"M17.41 7.96l-1.37-1.37c-.4-.4-.92-.59-1.43-.59-.52 0-1.04.2-1.43.59L10.3 9.45l-7.72 7.72c-.78.78-.78 2.05 0 2.83L4 21.41c.39.39.9.59 1.41.59.51 0 1.02-.2 1.41-.59l7.78-7.78 2.81-2.81c.8-.78.8-2.07 0-2.86zM5.41 20L4 18.59l7.72-7.72 1.47 1.35L5.41 20z\"/>\n",
              "  </svg>\n",
              "      </button>\n",
              "      \n",
              "  <style>\n",
              "    .colab-df-container {\n",
              "      display:flex;\n",
              "      flex-wrap:wrap;\n",
              "      gap: 12px;\n",
              "    }\n",
              "\n",
              "    .colab-df-convert {\n",
              "      background-color: #E8F0FE;\n",
              "      border: none;\n",
              "      border-radius: 50%;\n",
              "      cursor: pointer;\n",
              "      display: none;\n",
              "      fill: #1967D2;\n",
              "      height: 32px;\n",
              "      padding: 0 0 0 0;\n",
              "      width: 32px;\n",
              "    }\n",
              "\n",
              "    .colab-df-convert:hover {\n",
              "      background-color: #E2EBFA;\n",
              "      box-shadow: 0px 1px 2px rgba(60, 64, 67, 0.3), 0px 1px 3px 1px rgba(60, 64, 67, 0.15);\n",
              "      fill: #174EA6;\n",
              "    }\n",
              "\n",
              "    [theme=dark] .colab-df-convert {\n",
              "      background-color: #3B4455;\n",
              "      fill: #D2E3FC;\n",
              "    }\n",
              "\n",
              "    [theme=dark] .colab-df-convert:hover {\n",
              "      background-color: #434B5C;\n",
              "      box-shadow: 0px 1px 3px 1px rgba(0, 0, 0, 0.15);\n",
              "      filter: drop-shadow(0px 1px 2px rgba(0, 0, 0, 0.3));\n",
              "      fill: #FFFFFF;\n",
              "    }\n",
              "  </style>\n",
              "\n",
              "      <script>\n",
              "        const buttonEl =\n",
              "          document.querySelector('#df-1418e509-3329-476d-afd7-4ef249102698 button.colab-df-convert');\n",
              "        buttonEl.style.display =\n",
              "          google.colab.kernel.accessAllowed ? 'block' : 'none';\n",
              "\n",
              "        async function convertToInteractive(key) {\n",
              "          const element = document.querySelector('#df-1418e509-3329-476d-afd7-4ef249102698');\n",
              "          const dataTable =\n",
              "            await google.colab.kernel.invokeFunction('convertToInteractive',\n",
              "                                                     [key], {});\n",
              "          if (!dataTable) return;\n",
              "\n",
              "          const docLinkHtml = 'Like what you see? Visit the ' +\n",
              "            '<a target=\"_blank\" href=https://colab.research.google.com/notebooks/data_table.ipynb>data table notebook</a>'\n",
              "            + ' to learn more about interactive tables.';\n",
              "          element.innerHTML = '';\n",
              "          dataTable['output_type'] = 'display_data';\n",
              "          await google.colab.output.renderOutput(dataTable, element);\n",
              "          const docLink = document.createElement('div');\n",
              "          docLink.innerHTML = docLinkHtml;\n",
              "          element.appendChild(docLink);\n",
              "        }\n",
              "      </script>\n",
              "    </div>\n",
              "  </div>\n",
              "  "
            ]
          },
          "metadata": {},
          "execution_count": 19
        }
      ]
    },
    {
      "cell_type": "code",
      "source": [
        "# Round 2 - Contd.\n",
        "\n",
        "# generating one-hot encoders for categorical features\n",
        "round1_files = glob('/content/drive/MyDrive/CSE6242 Clean Partitions/GEO_DATA/*.csv')\n",
        "catg_feats = ['res_state', 'age_group', 'sex', 'race', 'current_status']\n",
        "catg_feat_encoders = {f: None for f in catg_feats}\n",
        "\n",
        "# iterating over categorical features\n",
        "for feat in catg_feats:\n",
        "  # fit OHE for the specific feature at a time on all datapoints (original set)\n",
        "  feature = pd.read_csv('/content/drive/MyDrive/COVID-19_Case_Surveillance_Public_Use_Data_with_Geography.csv', usecols=[feat])\n",
        "  feature = feature.replace(to_replace = ['Missing', 'Unknown'], value=np.nan).dropna()\n",
        "\n",
        "  catg_feat_encoders[feat] = OneHotEncoder(sparse=False).fit(feature)"
      ],
      "metadata": {
        "id": "9FACEz_X5RR_"
      },
      "execution_count": null,
      "outputs": []
    },
    {
      "cell_type": "code",
      "source": [
        "## Round 2 Contd. \n",
        "\n",
        "round1_files = glob('/content/drive/MyDrive/CSE6242 Clean Partitions/GEO_DATA/*.csv')\n",
        "# iterate over all cleaned partitions to apply encoding\n",
        "for j, file in enumerate(round1_files):\n",
        "  dfgeo_r1 = pd.read_csv(file)\n",
        "  dfgeo_r1.insert(loc=0, column = 'county_census_2019', value=np.nan)\n",
        "  dfgeo_r1.insert(loc=0, column = 'county_SVI', value=np.nan)\n",
        "  dfgeo_r1.insert(loc=0, column = 'county_metro_yn', value=np.nan)\n",
        "\n",
        "  # instead of OHE county, use census, SVI and metro info from vax data to replace and drop county categorical variable\n",
        "  for fips in shared_fips:\n",
        "    dfgeo_r1.loc[dfgeo_r1.county_fips_code==fips, 'county_census_2019'] = list(df3.loc[df3.FIPS == fips, 'Census2019'])[0]\n",
        "    dfgeo_r1.loc[dfgeo_r1.county_fips_code==fips, 'county_SVI'] = list(df3.loc[df3.FIPS == fips, 'SVI_CTGY'])[0]\n",
        "    dfgeo_r1.loc[dfgeo_r1.county_fips_code==fips, 'county_metro_yn'] = list(df3.loc[df3.FIPS == fips, 'Metro_status'])[0]\n",
        "  \n",
        "  dfgeo_r1 = dfgeo_r1.drop(['res_county', 'county_fips_code'], axis=1)\n",
        "\n",
        "  # One-hot encode catg feats in the file\n",
        "  if dfgeo_r1.shape[0]>10:\n",
        "    for feat in catg_feats:\n",
        "      ohe_enc = catg_feat_encoders[feat].transform(dfgeo_r1.loc[:, [feat]])\n",
        "      for i, catg in enumerate(catg_feat_encoders[feat].categories_[0]):\n",
        "        dfgeo_r1.insert(loc=0, column = f'{feat}_{\"_\".join(catg.split())}', value= ohe_enc[:, i])\n",
        "      dfgeo_r1.drop(feat, axis=1, inplace=True)\n",
        "    dfgeo_r1.to_csv(f'/content/drive/MyDrive/CSE6242 Clean Partitions/df_partition_{j}.csv', index=False)"
      ],
      "metadata": {
        "id": "MdjnmxScI8NB"
      },
      "execution_count": null,
      "outputs": []
    },
    {
      "cell_type": "code",
      "source": [
        "files = glob('/content/drive/MyDrive/CSE6242 Clean Partitions/*.csv')\n",
        "\n",
        "row_count = 0\n",
        "col_count = 0\n",
        "\n",
        "for i, file in enumerate(files):\n",
        "  \n",
        "  dfgeo_r1 = pd.read_csv(file)\n",
        "  if i==0: col_count = dfgeo_r1.shape[1]\n",
        "  row_count+= dfgeo_r1.shape[0]"
      ],
      "metadata": {
        "id": "ZBAR-yRg8_EP"
      },
      "execution_count": null,
      "outputs": []
    },
    {
      "cell_type": "code",
      "source": [
        "row_count"
      ],
      "metadata": {
        "colab": {
          "base_uri": "https://localhost:8080/"
        },
        "id": "6yAvZkFI-r3g",
        "outputId": "59dcf19a-4378-49b5-9fa2-a932c1b29346"
      },
      "execution_count": null,
      "outputs": [
        {
          "output_type": "execute_result",
          "data": {
            "text/plain": [
              "20265828"
            ]
          },
          "metadata": {},
          "execution_count": 4
        }
      ]
    },
    {
      "cell_type": "code",
      "source": [
        "col_count"
      ],
      "metadata": {
        "colab": {
          "base_uri": "https://localhost:8080/"
        },
        "id": "19PM2l3U-uns",
        "outputId": "9ff7aa13-0473-49ba-f0f0-803397b4cd60"
      },
      "execution_count": null,
      "outputs": [
        {
          "output_type": "execute_result",
          "data": {
            "text/plain": [
              "77"
            ]
          },
          "metadata": {},
          "execution_count": 5
        }
      ]
    },
    {
      "cell_type": "markdown",
      "metadata": {
        "id": "cTs8pptplnpI"
      },
      "source": [
        "# Processing Steps Taken"
      ]
    },
    {
      "cell_type": "markdown",
      "source": [
        "## Round 1"
      ],
      "metadata": {
        "id": "p82ffXpepGCM"
      }
    },
    {
      "cell_type": "markdown",
      "metadata": {
        "id": "hi09aTHDrhFX"
      },
      "source": [
        "### 1.0 Replacing Unknowns and Missings with Null"
      ]
    },
    {
      "cell_type": "markdown",
      "metadata": {
        "id": "P2LLFxXAllEc"
      },
      "source": [
        "### 1.1 Cleaning Rows with Missings or Unknowns"
      ]
    },
    {
      "cell_type": "markdown",
      "source": [
        "### 1.2 Dropping Rows with All targets null"
      ],
      "metadata": {
        "id": "73aWr6U6tu8a"
      }
    },
    {
      "cell_type": "markdown",
      "metadata": {
        "id": "R1aK29cvoZA9"
      },
      "source": [
        "### 1.3 Eliminating features with more than 40% missing"
      ]
    },
    {
      "cell_type": "markdown",
      "metadata": {
        "id": "mzgwfVTKopGK"
      },
      "source": [
        "### 1.4 Missing Data Dropping (in feature columns)"
      ]
    },
    {
      "cell_type": "markdown",
      "source": [
        "## Round 2"
      ],
      "metadata": {
        "id": "Dgf-XfOhpUpD"
      }
    },
    {
      "cell_type": "markdown",
      "source": [
        "### 2.0 Separating Date to features (Year and month)"
      ],
      "metadata": {
        "id": "Xriy2vHxqRjL"
      }
    },
    {
      "cell_type": "markdown",
      "source": [
        "### 2.1 Replacing county column with vax data's census population, SVI, and Metro status\n"
      ],
      "metadata": {
        "id": "OKD4WsmAuAWw"
      }
    },
    {
      "cell_type": "markdown",
      "metadata": {
        "id": "pwuioy01W9xW"
      },
      "source": [
        "### 2.2 One-Hot Encoding Categorical Features"
      ]
    },
    {
      "cell_type": "markdown",
      "metadata": {
        "id": "svWDNWs_WenA"
      },
      "source": [
        "### 2.3 Train-Test Splitting"
      ]
    },
    {
      "cell_type": "markdown",
      "metadata": {
        "id": "NOfEQa0FWrbQ"
      },
      "source": [
        "### 2.4 Scaling Data (if necessary)\n"
      ]
    },
    {
      "cell_type": "code",
      "source": [
        ""
      ],
      "metadata": {
        "id": "WH2e6gIXv1eO"
      },
      "execution_count": null,
      "outputs": []
    },
    {
      "cell_type": "code",
      "source": [
        ""
      ],
      "metadata": {
        "id": "RHM0bTJsv1gi"
      },
      "execution_count": null,
      "outputs": []
    },
    {
      "cell_type": "code",
      "source": [
        "## first method using KNN - left unused due to lack of non-missing features ##\n",
        "# from sklearn.neighbors import KNeighborsClassifier, KNeighborsRegressor\n",
        "# from sklearn.model_selection import train_test_split\n",
        "\n",
        "# missing_feats = [col for col in dfgeo_cleaned.columns if dfgeo_cleaned[col].isnull().sum()>0 and col not in target_vars]\n",
        "# nonmissing_feats = [col for col in dfgeo_cleaned.columns if dfgeo_cleaned[col].isnull().sum()==0 and col not in target_vars]\n",
        "\n",
        "# for missing_feat in missing_feats:\n",
        "#   if dfgeo_cleaned[missing_feat].dtype=='O':\n",
        "#     knn = KNeighborsClassifier()\n",
        "#   else:\n",
        "#     knn = KNeighborsRegressor()\n",
        "#   missing_mask = dfgeo_cleaned[missing_feat].isnull()\n",
        "#   X_train = dfgeo_cleaned.loc[:, nonmissing_feats].drop(missing_mask, axis=0)\n",
        "#   X_test = dfgeo_cleaned.loc[missing_mask, nonmissing_feats]\n",
        "#   y_train = dfgeo_cleaned.loc[:, missing_feat].drop(missing_mask, axis=0)\n",
        "    \n",
        "#   knn.fit(X_train, y_train)\n",
        "#   dfgeo_cleaned.loc[missing_mask, missing_feat] = knn.predict(X_test)"
      ],
      "metadata": {
        "id": "gVjilNXBpwP5"
      },
      "execution_count": null,
      "outputs": []
    }
  ],
  "metadata": {
    "colab": {
      "collapsed_sections": [],
      "name": "CDC Exploration.ipynb",
      "provenance": []
    },
    "kernelspec": {
      "display_name": "Python 3",
      "name": "python3"
    },
    "language_info": {
      "name": "python"
    }
  },
  "nbformat": 4,
  "nbformat_minor": 0
}