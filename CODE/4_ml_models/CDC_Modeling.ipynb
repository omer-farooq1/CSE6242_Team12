{
  "cells": [
    {
      "cell_type": "markdown",
      "metadata": {
        "id": "JeF6ewSdecMq"
      },
      "source": [
        "## Model Building"
      ]
    },
    {
      "cell_type": "code",
      "execution_count": null,
      "metadata": {
        "id": "aDrcFu5AdWHv"
      },
      "outputs": [],
      "source": [
        "from sklearn.ensemble import RandomForestClassifier\n",
        "from sklearn.linear_model import LogisticRegression\n",
        "from sklearn.model_selection import train_test_split\n",
        "from sklearn.metrics import accuracy_score, f1_score\n",
        "from sklearn.model_selection import RandomizedSearchCV, GridSearchCV\n",
        "import pandas as pd\n",
        "import numpy as np\n",
        "import matplotlib.pyplot as plt\n",
        "from glob import glob"
      ]
    },
    {
      "cell_type": "code",
      "execution_count": null,
      "metadata": {
        "colab": {
          "base_uri": "https://localhost:8080/"
        },
        "id": "bnEeHS7leWSg",
        "outputId": "4bb9cf28-19ea-4ddd-e774-2a35e1bdc6cd"
      },
      "outputs": [
        {
          "data": {
            "text/plain": [
              "['/content/drive/MyDrive/CSE6242 Clean Partitions/df_partition_0.csv',\n",
              " '/content/drive/MyDrive/CSE6242 Clean Partitions/df_partition_1.csv',\n",
              " '/content/drive/MyDrive/CSE6242 Clean Partitions/df_partition_2.csv',\n",
              " '/content/drive/MyDrive/CSE6242 Clean Partitions/df_partition_3.csv',\n",
              " '/content/drive/MyDrive/CSE6242 Clean Partitions/df_partition_4.csv']"
            ]
          },
          "execution_count": 2,
          "metadata": {},
          "output_type": "execute_result"
        }
      ],
      "source": [
        "csv_files = glob('/content/drive/MyDrive/CSE6242 Clean Partitions/*.csv')\n",
        "csv_files[:5]"
      ]
    },
    {
      "cell_type": "markdown",
      "metadata": {
        "id": "y83zv-SW931G"
      },
      "source": [
        "### 1.1 Train-Val-Test Splitting"
      ]
    },
    {
      "cell_type": "code",
      "execution_count": null,
      "metadata": {
        "id": "AumXwQE4fC_3"
      },
      "outputs": [],
      "source": [
        "def get_class_probs(label):\n",
        "  yes_nrows = 0\n",
        "  no_nrows = 0\n",
        "  nrows = 0\n",
        "\n",
        "  for file in csv_files:\n",
        "    df = pd.read_csv(file)\n",
        "    df = df.loc[df[label].notnull(),:]\n",
        "    nrows += df.shape[0]\n",
        "    yes_nrows += df.loc[df.hosp_yn==1, :].shape[0]\n",
        "    no_nrows += df.loc[df.hosp_yn==0, :].shape[0]\n",
        "\n",
        "  print(f'Number of rows: {nrows}')\n",
        "  print(f'Number of rows with a yes: {yes_nrows}')\n",
        "  print(f'Number of rows with a no: {no_nrows}')\n",
        "  # return probabilities\n",
        "  return yes_nrows / nrows, no_nrows / nrows"
      ]
    },
    {
      "cell_type": "code",
      "execution_count": null,
      "metadata": {
        "id": "JyBxxMF55v3D"
      },
      "outputs": [],
      "source": [
        "labels = ['hosp_yn', 'icu_yn', 'death_yn']\n",
        "\n",
        "for label in labels:\n",
        "  p = 0\n",
        "  train = pd.DataFrame()\n",
        "  val = pd.DataFrame()\n",
        "  test = pd.DataFrame()\n",
        "\n",
        "  for file in csv_files:\n",
        "    df = pd.read_csv(file)\n",
        "    df = df.drop([l for l in labels if l!=label], axis=1)\n",
        "    df = df.loc[df[label].notnull(), :]\n",
        "    \n",
        "    # prob a point will be picked\n",
        "\n",
        "    df_y = df.loc[df[label]==1, :]\n",
        "    df_n = df.loc[df[label]==0, :]\n",
        "    if df_n.shape[0]>df_y.shape[0]:\n",
        "      df_n = df_n.sample(n=len(df_y), random_state=45)\n",
        "    df = pd.concat([df_y, df_n], axis=0).sample(frac=1, random_state=45)\n",
        "    df['month'] = df['month'].apply(lambda x: (x - 1)/11.0)\n",
        "    df['year'] = df['year'].apply(lambda x: (x - 2020)/2.0)\n",
        "    # prob it will go to train, val, and test\n",
        "    train_tmp, other_tmp = train_test_split(df, test_size=0.3, random_state=45, stratify=df[label])\n",
        "    val_tmp, test_tmp = train_test_split(other_tmp, test_size=0.5, random_state=45, stratify=other_tmp[label])\n",
        "\n",
        "    train = train.append(train_tmp)\n",
        "    val = val.append(val_tmp)\n",
        "    test = test.append(test_tmp)\n",
        "      \n",
        "    if train.shape[0]>=1000000:\n",
        "      train.to_csv(f'/content/drive/MyDrive/CSE6242 Clean Partitions/{label}/train_p{p}.csv', index=False)\n",
        "      val.to_csv(f'/content/drive/MyDrive/CSE6242 Clean Partitions/{label}/val_p{p}.csv', index=False)\n",
        "      test.to_csv(f'/content/drive/MyDrive/CSE6242 Clean Partitions/{label}/test_p{p}.csv', index=False)\n",
        "      train = pd.DataFrame()\n",
        "      val = pd.DataFrame()\n",
        "      test = pd.DataFrame()\n",
        "      p +=1\n",
        "  train.to_csv(f'/content/drive/MyDrive/CSE6242 Clean Partitions/{label}/train_p{p}.csv', index=False)\n",
        "  val.to_csv(f'/content/drive/MyDrive/CSE6242 Clean Partitions/{label}/val_p{p}.csv', index=False)\n",
        "  test.to_csv(f'/content/drive/MyDrive/CSE6242 Clean Partitions/{label}/test_p{p}.csv', index=False)\n",
        "  train = pd.DataFrame()\n",
        "  val = pd.DataFrame()\n",
        "  test = pd.DataFrame()"
      ]
    },
    {
      "cell_type": "markdown",
      "metadata": {
        "id": "167zc3fX-Etn"
      },
      "source": [
        "### 1.2 Hospitalization Model"
      ]
    },
    {
      "cell_type": "code",
      "execution_count": null,
      "metadata": {
        "id": "jojAfALN-HLI"
      },
      "outputs": [],
      "source": [
        "train_files = glob('/content/drive/MyDrive/CSE6242 Clean Partitions/hosp_yn/train*.csv')\n",
        "val_files = glob('/content/drive/MyDrive/CSE6242 Clean Partitions/hosp_yn/val*.csv')\n",
        "test_files = glob('/content/drive/MyDrive/CSE6242 Clean Partitions/hosp_yn/test*.csv')\n",
        "\n",
        "train_df = pd.concat([pd.read_csv(file) for file in train_files], axis=0).dropna()\n",
        "val_df = pd.concat([pd.read_csv(file) for file in val_files], axis=0).dropna()\n",
        "test_df = pd.concat([pd.read_csv(file) for file in test_files], axis=0).dropna()"
      ]
    },
    {
      "cell_type": "code",
      "source": [
        "new_month = val.month.apply(lambda x: x*11 + 1)\n",
        "new_month.unique()"
      ],
      "metadata": {
        "colab": {
          "base_uri": "https://localhost:8080/"
        },
        "id": "Nl02CAd_ZcMz",
        "outputId": "b2bd509a-c1b0-429e-f678-3124c770e4f8"
      },
      "execution_count": null,
      "outputs": [
        {
          "output_type": "execute_result",
          "data": {
            "text/plain": [
              "array([ 5.,  3.,  1.,  9., 12.,  8.,  2.,  7., 11., 10.,  6.,  4.])"
            ]
          },
          "metadata": {},
          "execution_count": 3
        }
      ]
    },
    {
      "cell_type": "code",
      "source": [
        "train_df.shape"
      ],
      "metadata": {
        "colab": {
          "base_uri": "https://localhost:8080/"
        },
        "id": "orIAFyNQ_7OP",
        "outputId": "1d0bdbff-289d-4f17-a7da-6db82e3e210d"
      },
      "execution_count": null,
      "outputs": [
        {
          "output_type": "execute_result",
          "data": {
            "text/plain": [
              "(2110192, 75)"
            ]
          },
          "metadata": {},
          "execution_count": 3
        }
      ]
    },
    {
      "cell_type": "code",
      "source": [
        "train_df.hosp_yn.to_csv('/content/drive/MyDrive/CSE6242 Clean Partitions/Final_dfs/hosp_train_targets.csv', index=False)\n",
        "val_df.hosp_yn.to_csv('/content/drive/MyDrive/CSE6242 Clean Partitions/Final_dfs/hosp_val_targets.csv', index=False)\n",
        "test_df.hosp_yn.to_csv('/content/drive/MyDrive/CSE6242 Clean Partitions/Final_dfs/hosp_test_targets.csv', index=False)\n",
        "\n",
        "train_df.drop('hosp_yn', axis=1).to_csv('/content/drive/MyDrive/CSE6242 Clean Partitions/Final_dfs/hosp_train_features.csv', index=False)\n",
        "val_df.drop('hosp_yn', axis=1).to_csv('/content/drive/MyDrive/CSE6242 Clean Partitions/Final_dfs/hosp_val_features.csv', index=False)\n",
        "test_df.drop('hosp_yn', axis=1).to_csv('/content/drive/MyDrive/CSE6242 Clean Partitions/Final_dfs/hosp_test_features.csv', index=False)"
      ],
      "metadata": {
        "id": "rDtFJOuX9b2Y"
      },
      "execution_count": null,
      "outputs": []
    },
    {
      "cell_type": "code",
      "execution_count": null,
      "metadata": {
        "colab": {
          "base_uri": "https://localhost:8080/",
          "height": 317
        },
        "id": "2ITuTUaRHosi",
        "outputId": "7ee6ffa5-1914-425c-e52e-edce7cfedb62"
      },
      "outputs": [
        {
          "data": {
            "text/html": [
              "\n",
              "  <div id=\"df-1b91926b-ccf5-4449-ae26-c274ea39107a\">\n",
              "    <div class=\"colab-df-container\">\n",
              "      <div>\n",
              "<style scoped>\n",
              "    .dataframe tbody tr th:only-of-type {\n",
              "        vertical-align: middle;\n",
              "    }\n",
              "\n",
              "    .dataframe tbody tr th {\n",
              "        vertical-align: top;\n",
              "    }\n",
              "\n",
              "    .dataframe thead th {\n",
              "        text-align: right;\n",
              "    }\n",
              "</style>\n",
              "<table border=\"1\" class=\"dataframe\">\n",
              "  <thead>\n",
              "    <tr style=\"text-align: right;\">\n",
              "      <th></th>\n",
              "      <th>current_status_Probable_Case</th>\n",
              "      <th>current_status_Laboratory-confirmed_case</th>\n",
              "      <th>race_White</th>\n",
              "      <th>race_Native_Hawaiian/Other_Pacific_Islander</th>\n",
              "      <th>race_Multiple/Other</th>\n",
              "      <th>race_Black</th>\n",
              "      <th>race_Asian</th>\n",
              "      <th>race_American_Indian/Alaska_Native</th>\n",
              "      <th>sex_Other</th>\n",
              "      <th>sex_Male</th>\n",
              "      <th>...</th>\n",
              "      <th>res_state_AZ</th>\n",
              "      <th>res_state_AR</th>\n",
              "      <th>res_state_AL</th>\n",
              "      <th>res_state_AK</th>\n",
              "      <th>county_metro_yn</th>\n",
              "      <th>county_SVI</th>\n",
              "      <th>county_census_2019</th>\n",
              "      <th>year</th>\n",
              "      <th>month</th>\n",
              "      <th>hosp_yn</th>\n",
              "    </tr>\n",
              "  </thead>\n",
              "  <tbody>\n",
              "    <tr>\n",
              "      <th>0</th>\n",
              "      <td>0.0</td>\n",
              "      <td>1.0</td>\n",
              "      <td>1.0</td>\n",
              "      <td>0.0</td>\n",
              "      <td>0.0</td>\n",
              "      <td>0.0</td>\n",
              "      <td>0.0</td>\n",
              "      <td>0.0</td>\n",
              "      <td>0.0</td>\n",
              "      <td>1.0</td>\n",
              "      <td>...</td>\n",
              "      <td>0.0</td>\n",
              "      <td>0.0</td>\n",
              "      <td>0.0</td>\n",
              "      <td>0.0</td>\n",
              "      <td>1.0</td>\n",
              "      <td>4.0</td>\n",
              "      <td>618795.0</td>\n",
              "      <td>0.0</td>\n",
              "      <td>0.363636</td>\n",
              "      <td>1.0</td>\n",
              "    </tr>\n",
              "    <tr>\n",
              "      <th>1</th>\n",
              "      <td>0.0</td>\n",
              "      <td>1.0</td>\n",
              "      <td>1.0</td>\n",
              "      <td>0.0</td>\n",
              "      <td>0.0</td>\n",
              "      <td>0.0</td>\n",
              "      <td>0.0</td>\n",
              "      <td>0.0</td>\n",
              "      <td>0.0</td>\n",
              "      <td>1.0</td>\n",
              "      <td>...</td>\n",
              "      <td>0.0</td>\n",
              "      <td>0.0</td>\n",
              "      <td>0.0</td>\n",
              "      <td>0.0</td>\n",
              "      <td>1.0</td>\n",
              "      <td>4.0</td>\n",
              "      <td>618795.0</td>\n",
              "      <td>0.5</td>\n",
              "      <td>0.181818</td>\n",
              "      <td>1.0</td>\n",
              "    </tr>\n",
              "    <tr>\n",
              "      <th>2</th>\n",
              "      <td>0.0</td>\n",
              "      <td>1.0</td>\n",
              "      <td>1.0</td>\n",
              "      <td>0.0</td>\n",
              "      <td>0.0</td>\n",
              "      <td>0.0</td>\n",
              "      <td>0.0</td>\n",
              "      <td>0.0</td>\n",
              "      <td>0.0</td>\n",
              "      <td>0.0</td>\n",
              "      <td>...</td>\n",
              "      <td>0.0</td>\n",
              "      <td>0.0</td>\n",
              "      <td>0.0</td>\n",
              "      <td>0.0</td>\n",
              "      <td>1.0</td>\n",
              "      <td>2.0</td>\n",
              "      <td>803907.0</td>\n",
              "      <td>0.0</td>\n",
              "      <td>0.181818</td>\n",
              "      <td>1.0</td>\n",
              "    </tr>\n",
              "    <tr>\n",
              "      <th>3</th>\n",
              "      <td>0.0</td>\n",
              "      <td>1.0</td>\n",
              "      <td>1.0</td>\n",
              "      <td>0.0</td>\n",
              "      <td>0.0</td>\n",
              "      <td>0.0</td>\n",
              "      <td>0.0</td>\n",
              "      <td>0.0</td>\n",
              "      <td>0.0</td>\n",
              "      <td>0.0</td>\n",
              "      <td>...</td>\n",
              "      <td>0.0</td>\n",
              "      <td>0.0</td>\n",
              "      <td>0.0</td>\n",
              "      <td>0.0</td>\n",
              "      <td>1.0</td>\n",
              "      <td>1.0</td>\n",
              "      <td>2180085.0</td>\n",
              "      <td>1.0</td>\n",
              "      <td>0.000000</td>\n",
              "      <td>0.0</td>\n",
              "    </tr>\n",
              "    <tr>\n",
              "      <th>4</th>\n",
              "      <td>0.0</td>\n",
              "      <td>1.0</td>\n",
              "      <td>1.0</td>\n",
              "      <td>0.0</td>\n",
              "      <td>0.0</td>\n",
              "      <td>0.0</td>\n",
              "      <td>0.0</td>\n",
              "      <td>0.0</td>\n",
              "      <td>0.0</td>\n",
              "      <td>1.0</td>\n",
              "      <td>...</td>\n",
              "      <td>0.0</td>\n",
              "      <td>0.0</td>\n",
              "      <td>0.0</td>\n",
              "      <td>0.0</td>\n",
              "      <td>1.0</td>\n",
              "      <td>2.0</td>\n",
              "      <td>1952778.0</td>\n",
              "      <td>0.5</td>\n",
              "      <td>0.000000</td>\n",
              "      <td>1.0</td>\n",
              "    </tr>\n",
              "  </tbody>\n",
              "</table>\n",
              "<p>5 rows × 75 columns</p>\n",
              "</div>\n",
              "      <button class=\"colab-df-convert\" onclick=\"convertToInteractive('df-1b91926b-ccf5-4449-ae26-c274ea39107a')\"\n",
              "              title=\"Convert this dataframe to an interactive table.\"\n",
              "              style=\"display:none;\">\n",
              "        \n",
              "  <svg xmlns=\"http://www.w3.org/2000/svg\" height=\"24px\"viewBox=\"0 0 24 24\"\n",
              "       width=\"24px\">\n",
              "    <path d=\"M0 0h24v24H0V0z\" fill=\"none\"/>\n",
              "    <path d=\"M18.56 5.44l.94 2.06.94-2.06 2.06-.94-2.06-.94-.94-2.06-.94 2.06-2.06.94zm-11 1L8.5 8.5l.94-2.06 2.06-.94-2.06-.94L8.5 2.5l-.94 2.06-2.06.94zm10 10l.94 2.06.94-2.06 2.06-.94-2.06-.94-.94-2.06-.94 2.06-2.06.94z\"/><path d=\"M17.41 7.96l-1.37-1.37c-.4-.4-.92-.59-1.43-.59-.52 0-1.04.2-1.43.59L10.3 9.45l-7.72 7.72c-.78.78-.78 2.05 0 2.83L4 21.41c.39.39.9.59 1.41.59.51 0 1.02-.2 1.41-.59l7.78-7.78 2.81-2.81c.8-.78.8-2.07 0-2.86zM5.41 20L4 18.59l7.72-7.72 1.47 1.35L5.41 20z\"/>\n",
              "  </svg>\n",
              "      </button>\n",
              "      \n",
              "  <style>\n",
              "    .colab-df-container {\n",
              "      display:flex;\n",
              "      flex-wrap:wrap;\n",
              "      gap: 12px;\n",
              "    }\n",
              "\n",
              "    .colab-df-convert {\n",
              "      background-color: #E8F0FE;\n",
              "      border: none;\n",
              "      border-radius: 50%;\n",
              "      cursor: pointer;\n",
              "      display: none;\n",
              "      fill: #1967D2;\n",
              "      height: 32px;\n",
              "      padding: 0 0 0 0;\n",
              "      width: 32px;\n",
              "    }\n",
              "\n",
              "    .colab-df-convert:hover {\n",
              "      background-color: #E2EBFA;\n",
              "      box-shadow: 0px 1px 2px rgba(60, 64, 67, 0.3), 0px 1px 3px 1px rgba(60, 64, 67, 0.15);\n",
              "      fill: #174EA6;\n",
              "    }\n",
              "\n",
              "    [theme=dark] .colab-df-convert {\n",
              "      background-color: #3B4455;\n",
              "      fill: #D2E3FC;\n",
              "    }\n",
              "\n",
              "    [theme=dark] .colab-df-convert:hover {\n",
              "      background-color: #434B5C;\n",
              "      box-shadow: 0px 1px 3px 1px rgba(0, 0, 0, 0.15);\n",
              "      filter: drop-shadow(0px 1px 2px rgba(0, 0, 0, 0.3));\n",
              "      fill: #FFFFFF;\n",
              "    }\n",
              "  </style>\n",
              "\n",
              "      <script>\n",
              "        const buttonEl =\n",
              "          document.querySelector('#df-1b91926b-ccf5-4449-ae26-c274ea39107a button.colab-df-convert');\n",
              "        buttonEl.style.display =\n",
              "          google.colab.kernel.accessAllowed ? 'block' : 'none';\n",
              "\n",
              "        async function convertToInteractive(key) {\n",
              "          const element = document.querySelector('#df-1b91926b-ccf5-4449-ae26-c274ea39107a');\n",
              "          const dataTable =\n",
              "            await google.colab.kernel.invokeFunction('convertToInteractive',\n",
              "                                                     [key], {});\n",
              "          if (!dataTable) return;\n",
              "\n",
              "          const docLinkHtml = 'Like what you see? Visit the ' +\n",
              "            '<a target=\"_blank\" href=https://colab.research.google.com/notebooks/data_table.ipynb>data table notebook</a>'\n",
              "            + ' to learn more about interactive tables.';\n",
              "          element.innerHTML = '';\n",
              "          dataTable['output_type'] = 'display_data';\n",
              "          await google.colab.output.renderOutput(dataTable, element);\n",
              "          const docLink = document.createElement('div');\n",
              "          docLink.innerHTML = docLinkHtml;\n",
              "          element.appendChild(docLink);\n",
              "        }\n",
              "      </script>\n",
              "    </div>\n",
              "  </div>\n",
              "  "
            ],
            "text/plain": [
              "   current_status_Probable_Case  current_status_Laboratory-confirmed_case  \\\n",
              "0                           0.0                                       1.0   \n",
              "1                           0.0                                       1.0   \n",
              "2                           0.0                                       1.0   \n",
              "3                           0.0                                       1.0   \n",
              "4                           0.0                                       1.0   \n",
              "\n",
              "   race_White  race_Native_Hawaiian/Other_Pacific_Islander  \\\n",
              "0         1.0                                          0.0   \n",
              "1         1.0                                          0.0   \n",
              "2         1.0                                          0.0   \n",
              "3         1.0                                          0.0   \n",
              "4         1.0                                          0.0   \n",
              "\n",
              "   race_Multiple/Other  race_Black  race_Asian  \\\n",
              "0                  0.0         0.0         0.0   \n",
              "1                  0.0         0.0         0.0   \n",
              "2                  0.0         0.0         0.0   \n",
              "3                  0.0         0.0         0.0   \n",
              "4                  0.0         0.0         0.0   \n",
              "\n",
              "   race_American_Indian/Alaska_Native  sex_Other  sex_Male  ...  res_state_AZ  \\\n",
              "0                                 0.0        0.0       1.0  ...           0.0   \n",
              "1                                 0.0        0.0       1.0  ...           0.0   \n",
              "2                                 0.0        0.0       0.0  ...           0.0   \n",
              "3                                 0.0        0.0       0.0  ...           0.0   \n",
              "4                                 0.0        0.0       1.0  ...           0.0   \n",
              "\n",
              "   res_state_AR  res_state_AL  res_state_AK  county_metro_yn  county_SVI  \\\n",
              "0           0.0           0.0           0.0              1.0         4.0   \n",
              "1           0.0           0.0           0.0              1.0         4.0   \n",
              "2           0.0           0.0           0.0              1.0         2.0   \n",
              "3           0.0           0.0           0.0              1.0         1.0   \n",
              "4           0.0           0.0           0.0              1.0         2.0   \n",
              "\n",
              "   county_census_2019  year     month  hosp_yn  \n",
              "0            618795.0   0.0  0.363636      1.0  \n",
              "1            618795.0   0.5  0.181818      1.0  \n",
              "2            803907.0   0.0  0.181818      1.0  \n",
              "3           2180085.0   1.0  0.000000      0.0  \n",
              "4           1952778.0   0.5  0.000000      1.0  \n",
              "\n",
              "[5 rows x 75 columns]"
            ]
          },
          "execution_count": 13,
          "metadata": {},
          "output_type": "execute_result"
        }
      ],
      "source": [
        "train_df.head()"
      ]
    },
    {
      "cell_type": "code",
      "execution_count": null,
      "metadata": {
        "colab": {
          "base_uri": "https://localhost:8080/"
        },
        "id": "z0MkiMAfbeDG",
        "outputId": "c7c07097-c8dd-4c60-ead9-14c8f52260c1"
      },
      "outputs": [
        {
          "data": {
            "text/plain": [
              "1.0    0.500015\n",
              "0.0    0.499985\n",
              "Name: hosp_yn, dtype: float64"
            ]
          },
          "execution_count": 4,
          "metadata": {},
          "output_type": "execute_result"
        }
      ],
      "source": [
        "test_df.hosp_yn.value_counts(normalize=True)"
      ]
    },
    {
      "cell_type": "code",
      "execution_count": null,
      "metadata": {
        "id": "mp8goiloIW-g"
      },
      "outputs": [],
      "source": [
        "X_train, y_train = train_df.drop('hosp_yn', axis=1), train_df['hosp_yn']\n",
        "X_val, y_val = val_df.drop('hosp_yn', axis=1), val_df['hosp_yn']\n",
        "X_test, y_test = test_df.drop('hosp_yn', axis=1), test_df['hosp_yn']\n",
        "\n",
        "rf = RandomForestClassifier(max_depth=18, n_estimators=100, criterion='gini', n_jobs=-1).fit(X_train, y_train)"
      ]
    },
    {
      "cell_type": "code",
      "execution_count": null,
      "metadata": {
        "id": "sD6aNX9qJA2h",
        "colab": {
          "base_uri": "https://localhost:8080/"
        },
        "outputId": "e4cff523-be1f-4904-944a-1982865640e7"
      },
      "outputs": [
        {
          "output_type": "stream",
          "name": "stdout",
          "text": [
            "Hosp Model Train Accuracy: 0.7788049618233791, F1 score: 0.7762813052989185\n",
            "Hosp Model Validation Accuracy: 0.774122496638596, F1 score: 0.7713095851151961\n",
            "Hosp Model Test Accuracy: 0.7750047543861976, F1 score: 0.7724770231892484\n"
          ]
        }
      ],
      "source": [
        "train_preds = rf.predict(X_train)\n",
        "val_preds = rf.predict(X_val)\n",
        "test_preds = rf.predict(X_test)\n",
        "\n",
        "print(f'Hosp Model Train Accuracy: {accuracy_score(y_train, train_preds)}, F1 score: {f1_score(y_train, train_preds)}')\n",
        "print(f'Hosp Model Validation Accuracy: {accuracy_score(y_val, val_preds)}, F1 score: {f1_score(y_val, val_preds)}')\n",
        "print(f'Hosp Model Test Accuracy: {accuracy_score(y_test, test_preds)}, F1 score: {f1_score(y_test, test_preds)}')"
      ]
    },
    {
      "cell_type": "code",
      "source": [
        "pd.Series(train_preds, name='hosp_train_preds').to_csv('/content/drive/MyDrive/CSE6242 Clean Partitions/Final_dfs/hosp_train_preds.csv', index=False)\n",
        "pd.Series(val_preds, name='hosp_val_preds').to_csv('/content/drive/MyDrive/CSE6242 Clean Partitions/Final_dfs/hosp_val_preds.csv', index=False)\n",
        "pd.Series(test_preds, name='hosp_test_preds').to_csv('/content/drive/MyDrive/CSE6242 Clean Partitions/Final_dfs/hosp_test_preds.csv', index=False)"
      ],
      "metadata": {
        "id": "-8wEO-RnAhFh"
      },
      "execution_count": null,
      "outputs": []
    },
    {
      "cell_type": "code",
      "execution_count": null,
      "metadata": {
        "id": "03mhC0MWXFfj",
        "colab": {
          "base_uri": "https://localhost:8080/"
        },
        "outputId": "fe54e4bf-df16-4220-ecbe-327b27706132"
      },
      "outputs": [
        {
          "output_type": "execute_result",
          "data": {
            "text/plain": [
              "['/content/drive/MyDrive/CSE6242 Clean Partitions/hosp_yn/RF_hosp.joblib']"
            ]
          },
          "metadata": {},
          "execution_count": 11
        }
      ],
      "source": [
        "from joblib import dump, load\n",
        "dump(rf, '/content/drive/MyDrive/CSE6242 Clean Partitions/hosp_yn/RF_hosp.joblib')"
      ]
    },
    {
      "cell_type": "markdown",
      "metadata": {
        "id": "tnsGVxXC-IfQ"
      },
      "source": [
        "### 1.3 ICU Model"
      ]
    },
    {
      "cell_type": "code",
      "execution_count": null,
      "metadata": {
        "id": "-nK_sm7TSxiZ"
      },
      "outputs": [],
      "source": [
        "train_files = glob('/content/drive/MyDrive/CSE6242 Clean Partitions/icu_yn/train*.csv')\n",
        "val_files = glob('/content/drive/MyDrive/CSE6242 Clean Partitions/icu_yn/val*.csv')\n",
        "test_files = glob('/content/drive/MyDrive/CSE6242 Clean Partitions/icu_yn/test*.csv')\n",
        "\n",
        "train_df = pd.concat([pd.read_csv(file) for file in train_files], axis=0).dropna()\n",
        "val_df = pd.concat([pd.read_csv(file) for file in val_files], axis=0).dropna()\n",
        "test_df = pd.concat([pd.read_csv(file) for file in test_files], axis=0).dropna()"
      ]
    },
    {
      "cell_type": "code",
      "source": [
        "train_df.icu_yn.to_csv('/content/drive/MyDrive/CSE6242 Clean Partitions/Final_dfs/icu_train_targets.csv', index=False)\n",
        "val_df.icu_yn.to_csv('/content/drive/MyDrive/CSE6242 Clean Partitions/Final_dfs/icu_val_targets.csv', index=False)\n",
        "test_df.icu_yn.to_csv('/content/drive/MyDrive/CSE6242 Clean Partitions/Final_dfs/icu_test_targets.csv', index=False)\n",
        "\n",
        "train_df.drop('icu_yn', axis=1).to_csv('/content/drive/MyDrive/CSE6242 Clean Partitions/Final_dfs/icu_train_features.csv', index=False)\n",
        "val_df.drop('icu_yn', axis=1).to_csv('/content/drive/MyDrive/CSE6242 Clean Partitions/Final_dfs/icu_val_features.csv', index=False)\n",
        "test_df.drop('icu_yn', axis=1).to_csv('/content/drive/MyDrive/CSE6242 Clean Partitions/Final_dfs/icu_test_features.csv', index=False)"
      ],
      "metadata": {
        "id": "EY1N_9GoASUV"
      },
      "execution_count": null,
      "outputs": []
    },
    {
      "cell_type": "code",
      "execution_count": null,
      "metadata": {
        "colab": {
          "base_uri": "https://localhost:8080/"
        },
        "id": "6IhFbpBJS5_F",
        "outputId": "f383e20a-03f7-4cd9-d38d-0dbe9f29b682"
      },
      "outputs": [
        {
          "output_type": "execute_result",
          "data": {
            "text/plain": [
              "RandomForestClassifier(max_depth=18, n_jobs=-1)"
            ]
          },
          "metadata": {},
          "execution_count": 30
        }
      ],
      "source": [
        "X_train, y_train = train_df.drop('icu_yn', axis=1), train_df['icu_yn']\n",
        "X_val, y_val = val_df.drop('icu_yn', axis=1), val_df['icu_yn']\n",
        "X_test, y_test = test_df.drop('icu_yn', axis=1), test_df['icu_yn']\n",
        "\n",
        "rf = RandomForestClassifier(max_depth=18, n_estimators=100, criterion='gini', n_jobs=-1)\n",
        "rf.fit(X_train, y_train)"
      ]
    },
    {
      "cell_type": "code",
      "execution_count": null,
      "metadata": {
        "colab": {
          "base_uri": "https://localhost:8080/"
        },
        "id": "yb2Ge8rQS_mX",
        "outputId": "73ccf321-32bd-4e13-f29f-53f95398e98d"
      },
      "outputs": [
        {
          "output_type": "stream",
          "name": "stdout",
          "text": [
            "ICU Model Train Accuracy: 0.8493367280242525, F1 score: 0.8585389232756453\n",
            "ICU Model Validation Accuracy: 0.8278286129266521, F1 score: 0.8384177094408549\n",
            "ICU Model Test Accuracy: 0.827848395147716, F1 score: 0.8391278407550036\n"
          ]
        }
      ],
      "source": [
        "train_preds = rf.predict(X_train)\n",
        "val_preds = rf.predict(X_val)\n",
        "test_preds = rf.predict(X_test)\n",
        "\n",
        "print(f'ICU Model Train Accuracy: {accuracy_score(y_train, train_preds)}, F1 score: {f1_score(y_train, train_preds)}')\n",
        "print(f'ICU Model Validation Accuracy: {accuracy_score(y_val, val_preds)}, F1 score: {f1_score(y_val, val_preds)}')\n",
        "print(f'ICU Model Test Accuracy: {accuracy_score(y_test, test_preds)}, F1 score: {f1_score(y_test, test_preds)}')"
      ]
    },
    {
      "cell_type": "code",
      "source": [
        "pd.Series(train_preds, name='icu_train_preds').to_csv('/content/drive/MyDrive/CSE6242 Clean Partitions/Final_dfs/icu_train_preds.csv', index=False)\n",
        "pd.Series(val_preds, name='icu_val_preds').to_csv('/content/drive/MyDrive/CSE6242 Clean Partitions/Final_dfs/icu_val_preds.csv', index=False)\n",
        "pd.Series(test_preds, name='icu_test_preds').to_csv('/content/drive/MyDrive/CSE6242 Clean Partitions/Final_dfs/icu_test_preds.csv', index=False)"
      ],
      "metadata": {
        "id": "z_VC3cbJBQ8k"
      },
      "execution_count": null,
      "outputs": []
    },
    {
      "cell_type": "code",
      "execution_count": null,
      "metadata": {
        "colab": {
          "base_uri": "https://localhost:8080/"
        },
        "id": "rj0DxMMNTEIx",
        "outputId": "ef5f5da3-db5a-4d05-ba43-ebcc39a80132"
      },
      "outputs": [
        {
          "output_type": "execute_result",
          "data": {
            "text/plain": [
              "['/content/drive/MyDrive/CSE6242 Clean Partitions/icu_yn/RF_icu.joblib']"
            ]
          },
          "metadata": {},
          "execution_count": 15
        }
      ],
      "source": [
        "from joblib import dump, load\n",
        "dump(rf, '/content/drive/MyDrive/CSE6242 Clean Partitions/icu_yn/RF_icu.joblib')"
      ]
    },
    {
      "cell_type": "markdown",
      "metadata": {
        "id": "CuI9M8gl-Mr_"
      },
      "source": [
        "### 1.4 Death Model"
      ]
    },
    {
      "cell_type": "code",
      "execution_count": null,
      "metadata": {
        "id": "TFatl5YC-PAt"
      },
      "outputs": [],
      "source": [
        "train_files = glob('/content/drive/MyDrive/CSE6242 Clean Partitions/death_yn/train*.csv')\n",
        "val_files = glob('/content/drive/MyDrive/CSE6242 Clean Partitions/death_yn/val*.csv')\n",
        "test_files = glob('/content/drive/MyDrive/CSE6242 Clean Partitions/death_yn/test*.csv')\n",
        "\n",
        "train_df = pd.concat([pd.read_csv(file) for file in train_files], axis=0).dropna()\n",
        "val_df = pd.concat([pd.read_csv(file) for file in val_files], axis=0).dropna()\n",
        "test_df = pd.concat([pd.read_csv(file) for file in test_files], axis=0).dropna()"
      ]
    },
    {
      "cell_type": "code",
      "source": [
        "train_df.death_yn.to_csv('/content/drive/MyDrive/CSE6242 Clean Partitions/Final_dfs/death_train_targets.csv', index=False)\n",
        "val_df.death_yn.to_csv('/content/drive/MyDrive/CSE6242 Clean Partitions/Final_dfs/death_val_targets.csv', index=False)\n",
        "test_df.death_yn.to_csv('/content/drive/MyDrive/CSE6242 Clean Partitions/Final_dfs/death_test_targets.csv', index=False)\n",
        "\n",
        "train_df.drop('death_yn', axis=1).to_csv('/content/drive/MyDrive/CSE6242 Clean Partitions/Final_dfs/death_train_features.csv', index=False)\n",
        "val_df.drop('death_yn', axis=1).to_csv('/content/drive/MyDrive/CSE6242 Clean Partitions/Final_dfs/death_val_features.csv', index=False)\n",
        "test_df.drop('death_yn', axis=1).to_csv('/content/drive/MyDrive/CSE6242 Clean Partitions/Final_dfs/death_test_features.csv', index=False)"
      ],
      "metadata": {
        "id": "DP3tee2pBcm_"
      },
      "execution_count": null,
      "outputs": []
    },
    {
      "cell_type": "code",
      "execution_count": null,
      "metadata": {
        "colab": {
          "base_uri": "https://localhost:8080/"
        },
        "id": "gJ5iL_CIVS0g",
        "outputId": "33c9e3e1-6ec6-4a4b-e422-2afccd26b69b"
      },
      "outputs": [
        {
          "output_type": "execute_result",
          "data": {
            "text/plain": [
              "RandomForestClassifier(max_depth=18, n_jobs=-1)"
            ]
          },
          "metadata": {},
          "execution_count": 35
        }
      ],
      "source": [
        "X_train, y_train = train_df.drop('death_yn', axis=1), train_df['death_yn']\n",
        "X_val, y_val = val_df.drop('death_yn', axis=1), val_df['death_yn']\n",
        "X_test, y_test = test_df.drop('death_yn', axis=1), test_df['death_yn']\n",
        "\n",
        "rf = RandomForestClassifier(max_depth=18, n_estimators=100, criterion='gini', n_jobs=-1)\n",
        "rf.fit(X_train, y_train)"
      ]
    },
    {
      "cell_type": "code",
      "execution_count": null,
      "metadata": {
        "colab": {
          "base_uri": "https://localhost:8080/"
        },
        "id": "ZUAVDaCRT0ws",
        "outputId": "9d1a4c2e-16f2-464b-d40d-730f78fb2e84"
      },
      "outputs": [
        {
          "output_type": "stream",
          "name": "stdout",
          "text": [
            "Death Model Train Accuracy: 0.9381131701516202, F1 score: 0.9413352774561399\n",
            "Death Model Validation Accuracy: 0.9370369253350223, F1 score: 0.9403574931672524\n",
            "Death Model Test Accuracy: 0.9370458588355896, F1 score: 0.9402723215988406\n"
          ]
        }
      ],
      "source": [
        "train_preds = rf.predict(X_train)\n",
        "val_preds = rf.predict(X_val)\n",
        "test_preds = rf.predict(X_test)\n",
        "\n",
        "print(f'Death Model Train Accuracy: {accuracy_score(y_train, train_preds)}, F1 score: {f1_score(y_train, train_preds)}')\n",
        "print(f'Death Model Validation Accuracy: {accuracy_score(y_val, val_preds)}, F1 score: {f1_score(y_val, val_preds)}')\n",
        "print(f'Death Model Test Accuracy: {accuracy_score(y_test, test_preds)}, F1 score: {f1_score(y_test, test_preds)}')"
      ]
    },
    {
      "cell_type": "code",
      "source": [
        "pd.Series(train_preds, name='death_train_preds').to_csv('/content/drive/MyDrive/CSE6242 Clean Partitions/Final_dfs/death_train_preds.csv', index=False)\n",
        "pd.Series(val_preds, name='death_val_preds').to_csv('/content/drive/MyDrive/CSE6242 Clean Partitions/Final_dfs/death_val_preds.csv', index=False)\n",
        "pd.Series(test_preds, name='death_test_preds').to_csv('/content/drive/MyDrive/CSE6242 Clean Partitions/Final_dfs/death_test_preds.csv', index=False)"
      ],
      "metadata": {
        "id": "6j0eLftKBSlk"
      },
      "execution_count": null,
      "outputs": []
    },
    {
      "cell_type": "code",
      "execution_count": null,
      "metadata": {
        "colab": {
          "base_uri": "https://localhost:8080/"
        },
        "id": "MWSjycFVVWjO",
        "outputId": "c5b35138-0dae-4ac6-a804-32f4a924e37b"
      },
      "outputs": [
        {
          "output_type": "execute_result",
          "data": {
            "text/plain": [
              "['/content/drive/MyDrive/CSE6242 Clean Partitions/death_yn/RF_death.joblib']"
            ]
          },
          "metadata": {},
          "execution_count": 19
        }
      ],
      "source": [
        "from joblib import dump, load\n",
        "dump(rf, '/content/drive/MyDrive/CSE6242 Clean Partitions/death_yn/RF_death.joblib')"
      ]
    }
  ],
  "metadata": {
    "colab": {
      "name": "CDC Modeling.ipynb",
      "provenance": [],
      "collapsed_sections": []
    },
    "kernelspec": {
      "display_name": "Python 3",
      "name": "python3"
    },
    "language_info": {
      "name": "python"
    }
  },
  "nbformat": 4,
  "nbformat_minor": 0
}